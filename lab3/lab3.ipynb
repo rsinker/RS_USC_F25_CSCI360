{
 "cells": [
  {
   "cell_type": "markdown",
   "metadata": {},
   "source": [
    "# Lab 3: Breast Cancer Coimbra Data Set"
   ]
  },
  {
   "cell_type": "markdown",
   "metadata": {},
   "source": [
    "## Problem 1 (a): Load dataset\n",
    "According to instruction, load `dataR2.csv` from Lab 3 repo."
   ]
  },
  {
   "cell_type": "code",
   "execution_count": 1,
   "metadata": {
    "ExecuteTime": {
     "end_time": "2025-10-19T22:22:13.309673700Z",
     "start_time": "2025-10-19T22:22:13.282763300Z"
    }
   },
   "outputs": [
    {
     "name": "stdout",
     "output_type": "stream",
     "text": [
      ">>> example features: \n",
      "\n",
      ">>> example classification: \n",
      ">>> classification has unique (labels, counts): \n",
      ">>> features has shape: \n"
     ]
    }
   ],
   "source": [
    "# Visualization: Load dataset\n",
    "\n",
    "print(\">>> example features: \\n\")\n",
    "print(\">>> example classification: \")\n",
    "print(\">>> classification has unique (labels, counts): \")\n",
    "print(\">>> features has shape: \")"
   ]
  },
  {
   "cell_type": "markdown",
   "metadata": {},
   "source": [
    "## Problem 1 (b): Exploratory data analysis\n",
    "- Plot scatter matrix with class=0 being red and class=1 being green.\n",
    "- Select the first 40 rows of Class 0 and the first 48 rows of Class 1 as the training set (`training_data`, `training_class`) and the rest of the data as the test set (`test_data`, `test_class`)."
   ]
  },
  {
   "cell_type": "code",
   "execution_count": 2,
   "metadata": {
    "ExecuteTime": {
     "end_time": "2025-10-19T22:22:13.319640400Z",
     "start_time": "2025-10-19T22:22:13.306683700Z"
    }
   },
   "outputs": [],
   "source": [
    "# ===== Make a colored scatter matrix ===== #\n",
    "# Hint: use variable features_pd and pd.plotting.scatter_matrix()\n",
    "\n",
    "# ===== End of Make a colored scatter matrix ===== #\n",
    "\n",
    "# ===== Divide into training and test set ===== #\n",
    "\n",
    "# ===== End of Divide into training and test set ===== #"
   ]
  },
  {
   "cell_type": "code",
   "execution_count": 3,
   "metadata": {
    "ExecuteTime": {
     "end_time": "2025-10-19T22:22:13.365486600Z",
     "start_time": "2025-10-19T22:22:13.319640400Z"
    }
   },
   "outputs": [
    {
     "name": "stdout",
     "output_type": "stream",
     "text": [
      ">>> Passed P1(b) Tests.\n"
     ]
    }
   ],
   "source": [
    "# TEST: 1(b)\n",
    "\n",
    "print(f\">>> Passed P1(b) Tests.\")"
   ]
  },
  {
   "cell_type": "markdown",
   "metadata": {},
   "source": [
    "## Problem 1 (c): Classification using KNN on Breast Cancer Coimbra Data Set\n",
    "- Train kNN module with training data. Set `weights` to `uniform`, `metric` to `euclidean`.\n",
    "- Compute misclassification rates on both training and test dataset.\n",
    "- Find and report the best k."
   ]
  },
  {
   "cell_type": "code",
   "execution_count": 4,
   "metadata": {
    "ExecuteTime": {
     "end_time": "2025-10-19T22:22:13.370470Z",
     "start_time": "2025-10-19T22:22:13.336582600Z"
    }
   },
   "outputs": [],
   "source": [
    "# ===== Classify training/test data ===== #\n",
    "\n",
    "# ===== End of Classify training/test data ===== #\n",
    "\n",
    "# ===== Plot misclassification rate ===== #\n",
    "\n",
    "# ===== End of Plot misclassification rate ===== #"
   ]
  },
  {
   "cell_type": "code",
   "execution_count": 5,
   "metadata": {
    "ExecuteTime": {
     "end_time": "2025-10-19T22:22:13.370470Z",
     "start_time": "2025-10-19T22:22:13.352530200Z"
    }
   },
   "outputs": [],
   "source": [
    "# ===== Which k^* is the most suitable k ===== #\n",
    "\n",
    "# ===== End of Which k^* is the most suitable k ===== #"
   ]
  },
  {
   "cell_type": "markdown",
   "metadata": {},
   "source": [
    "## Problem 1 (d): Replace the Euclidean metric with the Minkowski distance\n",
    "- Train kNN module with training data. Set `weights` to `uniform`, `metric` to `minkowski`.\n",
    "- Compute misclassification rates on both training and test dataset.\n",
    "- Find and report the best k and p."
   ]
  },
  {
   "cell_type": "code",
   "execution_count": 6,
   "metadata": {
    "ExecuteTime": {
     "end_time": "2025-10-19T22:22:13.381433600Z",
     "start_time": "2025-10-19T22:22:13.367479300Z"
    }
   },
   "outputs": [
    {
     "name": "stdout",
     "output_type": "stream",
     "text": [
      ">>> optimal k is , optimal p is \n"
     ]
    }
   ],
   "source": [
    "# ===== Classify training/test data ===== #\n",
    "\n",
    "# ===== End of Classify training/test data ===== #\n",
    "\n",
    "# ===== Find the optimal (k^*, p^*) ===== #\n",
    "\n",
    "print(\">>> optimal k is , optimal p is \")\n",
    "# ===== End of Find the optimal (k, p) ===== #"
   ]
  },
  {
   "cell_type": "markdown",
   "metadata": {},
   "source": [
    "# Extra Credit\n",
    "- Train kNN module with training data. Set `weights` to `distance`, `metric` to `minkowski`.\n",
    "- Compute misclassification rates on both training and test dataset.\n",
    "- Find and report the best k and p."
   ]
  },
  {
   "cell_type": "code",
   "execution_count": 7,
   "metadata": {
    "ExecuteTime": {
     "end_time": "2025-10-19T22:22:13.426436900Z",
     "start_time": "2025-10-19T22:22:13.382429500Z"
    }
   },
   "outputs": [
    {
     "name": "stdout",
     "output_type": "stream",
     "text": [
      ">>> optimal k is , optimal p is \n"
     ]
    }
   ],
   "source": [
    "# ===== Classify training/test data ===== #\n",
    "\n",
    "# ===== End of Classify training/test data ===== #\n",
    "\n",
    "# ===== Find the optimal (k^*, p^*) ===== #\n",
    "\n",
    "print(\">>> optimal k is , optimal p is \")\n",
    "# ===== End of Find the optimal (k, p) ===== #"
   ]
  }
 ],
 "metadata": {
  "kernelspec": {
   "display_name": "lrm",
   "language": "python",
   "name": "python3"
  },
  "language_info": {
   "codemirror_mode": {
    "name": "ipython",
    "version": 3
   },
   "file_extension": ".py",
   "mimetype": "text/x-python",
   "name": "python",
   "nbconvert_exporter": "python",
   "pygments_lexer": "ipython3",
   "version": "3.10.18"
  },
  "orig_nbformat": 4
 },
 "nbformat": 4,
 "nbformat_minor": 2
}
